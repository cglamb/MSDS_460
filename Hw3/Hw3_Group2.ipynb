{
 "cells": [
  {
   "cell_type": "markdown",
   "id": "25a1c63b",
   "metadata": {},
   "source": [
    "### Redistricting Indiana"
   ]
  },
  {
   "cell_type": "markdown",
   "id": "1da7c19c",
   "metadata": {},
   "source": [
    "Group 2: Charles Lamb, Connor Cassedy, Heidi Huckabay, and Susan Alrifai"
   ]
  },
  {
   "cell_type": "markdown",
   "id": "766fbe33",
   "metadata": {},
   "source": [
    "### Library Import"
   ]
  },
  {
   "cell_type": "code",
   "execution_count": 1,
   "id": "2c422ae0",
   "metadata": {},
   "outputs": [],
   "source": [
    "#import libraries\n",
    "import pulp, numpy as np, pandas as pd\n",
    "from pulp import LpVariable, LpProblem, LpMaximize, LpStatus, value, LpMinimize, lpSum"
   ]
  },
  {
   "cell_type": "markdown",
   "id": "55ed7ca4",
   "metadata": {},
   "source": [
    "### Indiana State Data"
   ]
  },
  {
   "cell_type": "markdown",
   "id": "ed98b970",
   "metadata": {},
   "source": [
    "Data source is US Census data containing 2020 population size by county for the state of Indiana: https://www.census.gov/data/tables/time-series/demo/popest/2020s-counties-total.html"
   ]
  },
  {
   "cell_type": "code",
   "execution_count": 2,
   "id": "4f53c89b",
   "metadata": {},
   "outputs": [],
   "source": [
    "#bringing in county and population as list\n",
    "county_pop = [['Adams', 35811], ['Allen', 385411], ['Bartholomew', 82218], ['Benton', 8720], ['Blackford', 12115], ['Boone', 70814], ['Brown', 15475], ['Carroll', 20304], ['Cass', 37870], ['Clark', 121091], ['Clay', 26457], ['Clinton', 33188], ['Crawford', 10530], ['Daviess', 33391], ['Dearborn', 50680], ['Decatur', 26471], ['DeKalb', 43273], ['Delaware', 111909], ['Dubois', 43635], ['Elkhart', 207054], ['Fayette', 23404], ['Floyd', 80474], ['Fountain', 16474], ['Franklin', 22796], ['Fulton', 20480], ['Gibson', 33017], ['Grant', 66661], ['Greene', 30805], ['Hamilton', 347465], ['Hancock', 79851], ['Harrison', 39649], ['Hendricks', 174792], ['Henry', 48912], ['Howard', 83659], ['Huntington', 36670], ['Jackson', 46425], ['Jasper', 32912], ['Jay', 20478], ['Jefferson', 33147], ['Jennings', 27614], ['Johnson', 161768], ['Knox', 36286], ['Kosciusko', 80247], ['LaGrange', 40444], ['Lake', 498707], ['LaPorte', 112422], ['Lawrence', 45015], ['Madison', 130141], ['Marion', 977213], ['Marshall', 46096], ['Martin', 9806], ['Miami', 35972], ['Monroe', 139717], ['Montgomery', 37941], ['Morgan', 71785], ['Newton', 13825], ['Noble', 47461], ['Ohio', 5930], ['Orange', 19872], ['Owen', 21326], ['Parke', 16154], ['Perry', 19170], ['Pike', 12252], ['Porter', 173208], ['Posey', 25213], ['Pulaski', 12523], ['Putnam', 36728], ['Randolph', 24502], ['Ripley', 28984], ['Rush', 16755], ['Saint_Joseph', 272914], ['Scott', 24383], ['Shelby', 45052], ['Spencer', 19814], ['Starke', 23370], ['Steuben', 34448], ['Sullivan', 20820], ['Switzerland', 9753], ['Tippecanoe', 186249], ['Tipton', 15355], ['Union', 7087], ['Vanderburgh', 180136], ['Vermillion', 15447], ['Vigo', 106158], ['Wabash', 30986], ['Warren', 8436], ['Warrick', 63896], ['Washington', 28176], ['Wayne', 66555], ['Wells', 28187], ['White', 24691], ['Whitley', 34190]]"
   ]
  },
  {
   "cell_type": "code",
   "execution_count": 3,
   "id": "4b9c301e",
   "metadata": {},
   "outputs": [],
   "source": [
    "#setting up a dataframe\n",
    "df0 = pd.DataFrame(county_pop,columns=['county','pop'])"
   ]
  },
  {
   "cell_type": "code",
   "execution_count": 4,
   "id": "53bf0b33",
   "metadata": {},
   "outputs": [
    {
     "name": "stdout",
     "output_type": "stream",
     "text": [
      "92\n"
     ]
    }
   ],
   "source": [
    "#checking we have the appropriate number of counties in the dataframe\n",
    "#per the assignment we expect to see 92\n",
    "county_cnt = len(df0['county'].unique())\n",
    "print(county_cnt)"
   ]
  },
  {
   "cell_type": "markdown",
   "id": "9fdedea2",
   "metadata": {},
   "source": [
    "### Adjacent Pair Setup"
   ]
  },
  {
   "cell_type": "markdown",
   "id": "06b83617",
   "metadata": {},
   "source": [
    "Based on data from the following: https://www2.census.gov/geo/docs/reference/county_adjacency.txt"
   ]
  },
  {
   "cell_type": "markdown",
   "id": "147f81f4",
   "metadata": {},
   "source": [
    "Some pre-proceesing was performed.  Pairs were found only for the state of Indiana.  And some many adjustment to county name conventions was made to be consistent with the rest of data used in this file"
   ]
  },
  {
   "cell_type": "code",
   "execution_count": 5,
   "id": "1d0306fd",
   "metadata": {},
   "outputs": [],
   "source": [
    "county_pair_list= [['Adams','Allen'],['Adams','Jay'],['Adams','Wells'],['Allen','Adams'],['Allen','DeKalb'],['Allen','Huntington'],['Allen','Noble'],['Allen','Wells'],['Allen','Whitley'],['Bartholomew','Brown'],['Bartholomew','Decatur'],['Bartholomew','Jackson'],['Bartholomew','Jennings'],['Bartholomew','Johnson'],['Bartholomew','Shelby'],['Benton','Jasper'],['Benton','Newton'],['Benton','Tippecanoe'],['Benton','Warren'],['Benton','White'],['Blackford','Delaware'],['Blackford','Grant'],['Blackford','Jay'],['Blackford','Wells'],['Boone','Clinton'],['Boone','Hamilton'],['Boone','Hendricks'],['Boone','Marion'],['Boone','Montgomery'],['Brown','Bartholomew'],['Brown','Jackson'],['Brown','Johnson'],['Brown','Monroe'],['Brown','Morgan'],['Carroll','Cass'],['Carroll','Clinton'],['Carroll','Howard'],['Carroll','Tippecanoe'],['Carroll','White'],['Cass','Carroll'],['Cass','Fulton'],['Cass','Howard'],['Cass','Miami'],['Cass','Pulaski'],['Cass','White'],['Clark','Floyd'],['Clark','Jefferson'],['Clark','Scott'],['Clark','Washington'],['Clay','Greene'],['Clay','Owen'],['Clay','Parke'],['Clay','Putnam'],['Clay','Sullivan'],['Clay','Vigo'],['Clinton','Boone'],['Clinton','Carroll'],['Clinton','Hamilton'],['Clinton','Howard'],['Clinton','Montgomery'],['Clinton','Tippecanoe'],['Clinton','Tipton'],['Crawford','Dubois'],['Crawford','Harrison'],['Crawford','Orange'],['Crawford','Perry'],['Crawford','Washington'],['Daviess','Dubois'],['Daviess','Greene'],['Daviess','Knox'],['Daviess','Martin'],['Daviess','Pike'],['Dearborn','Franklin'],['Dearborn','Ohio'],['Dearborn','Ripley'],['Decatur','Bartholomew'],['Decatur','Franklin'],['Decatur','Jennings'],['Decatur','Ripley'],['Decatur','Rush'],['Decatur','Shelby'],['DeKalb','Allen'],['DeKalb','LaGrange'],['DeKalb','Noble'],['DeKalb','Steuben'],['Delaware','Blackford'],['Delaware','Grant'],['Delaware','Henry'],['Delaware','Jay'],['Delaware','Madison'],['Delaware','Randolph'],['Dubois','Crawford'],['Dubois','Daviess'],['Dubois','Martin'],['Dubois','Orange'],['Dubois','Perry'],['Dubois','Pike'],['Dubois','Spencer'],['Dubois','Warrick'],['Elkhart','Kosciusko'],['Elkhart','LaGrange'],['Elkhart','Marshall'],['Elkhart','Noble'],['Elkhart','Saint_Joseph'],['Fayette','Franklin'],['Fayette','Henry'],['Fayette','Rush'],['Fayette','Union'],['Fayette','Wayne'],['Floyd','Clark'],['Floyd','Harrison'],['Floyd','Washington'],['Fountain','Montgomery'],['Fountain','Parke'],['Fountain','Tippecanoe'],['Fountain','Vermillion'],['Fountain','Warren'],['Franklin','Dearborn'],['Franklin','Decatur'],['Franklin','Fayette'],['Franklin','Ripley'],['Franklin','Rush'],['Franklin','Union'],['Fulton','Cass'],['Fulton','Kosciusko'],['Fulton','Marshall'],['Fulton','Miami'],['Fulton','Pulaski'],['Fulton','Starke'],['Fulton','Wabash'],['Gibson','Knox'],['Gibson','Pike'],['Gibson','Posey'],['Gibson','Vanderburgh'],['Gibson','Warrick'],['Grant','Blackford'],['Grant','Delaware'],['Grant','Howard'],['Grant','Huntington'],['Grant','Madison'],['Grant','Miami'],['Grant','Tipton'],['Grant','Wabash'],['Grant','Wells'],['Greene','Clay'],['Greene','Daviess'],['Greene','Knox'],['Greene','Lawrence'],['Greene','Martin'],['Greene','Monroe'],['Greene','Owen'],['Greene','Sullivan'],['Hamilton','Boone'],['Hamilton','Clinton'],['Hamilton','Hancock'],['Hamilton','Madison'],['Hamilton','Marion'],['Hamilton','Tipton'],['Hancock','Hamilton'],['Hancock','Henry'],['Hancock','Madison'],['Hancock','Marion'],['Hancock','Rush'],['Hancock','Shelby'],['Harrison','Crawford'],['Harrison','Floyd'],['Harrison','Washington'],['Hendricks','Boone'],['Hendricks','Marion'],['Hendricks','Montgomery'],['Hendricks','Morgan'],['Hendricks','Putnam'],['Henry','Delaware'],['Henry','Fayette'],['Henry','Hancock'],['Henry','Madison'],['Henry','Randolph'],['Henry','Rush'],['Henry','Wayne'],['Howard','Carroll'],['Howard','Cass'],['Howard','Clinton'],['Howard','Grant'],['Howard','Miami'],['Howard','Tipton'],['Huntington','Allen'],['Huntington','Grant'],['Huntington','Wabash'],['Huntington','Wells'],['Huntington','Whitley'],['Jackson','Bartholomew'],['Jackson','Brown'],['Jackson','Jennings'],['Jackson','Lawrence'],['Jackson','Monroe'],['Jackson','Scott'],['Jackson','Washington'],['Jasper','Benton'],['Jasper','Lake'],['Jasper','LaPorte'],['Jasper','Newton'],['Jasper','Porter'],['Jasper','Pulaski'],['Jasper','Starke'],['Jasper','White'],['Jay','Adams'],['Jay','Blackford'],['Jay','Delaware'],['Jay','Randolph'],['Jay','Wells'],['Jefferson','Clark'],['Jefferson','Jennings'],['Jefferson','Ripley'],['Jefferson','Scott'],['Jefferson','Switzerland'],['Jennings','Bartholomew'],['Jennings','Decatur'],['Jennings','Jackson'],['Jennings','Jefferson'],['Jennings','Ripley'],['Jennings','Scott'],['Johnson','Bartholomew'],['Johnson','Brown'],['Johnson','Marion'],['Johnson','Morgan'],['Johnson','Shelby'],['Knox','Daviess'],['Knox','Gibson'],['Knox','Greene'],['Knox','Pike'],['Knox','Sullivan'],['Kosciusko','Elkhart'],['Kosciusko','Fulton'],['Kosciusko','Marshall'],['Kosciusko','Noble'],['Kosciusko','Wabash'],['Kosciusko','Whitley'],['LaGrange','DeKalb'],['LaGrange','Elkhart'],['LaGrange','Noble'],['LaGrange','Steuben'],['Lake','Jasper'],['Lake','Newton'],['Lake','Porter'],['LaPorte','Jasper'],['LaPorte','Porter'],['LaPorte','Saint_Joseph'],['LaPorte','Starke'],['Lawrence','Greene'],['Lawrence','Jackson'],['Lawrence','Martin'],['Lawrence','Monroe'],['Lawrence','Orange'],['Lawrence','Washington'],['Madison','Delaware'],['Madison','Grant'],['Madison','Hamilton'],['Madison','Hancock'],['Madison','Henry'],['Madison','Tipton'],['Marion','Boone'],['Marion','Hamilton'],['Marion','Hancock'],['Marion','Hendricks'],['Marion','Johnson'],['Marion','Morgan'],['Marion','Shelby'],['Marshall','Elkhart'],['Marshall','Fulton'],['Marshall','Kosciusko'],['Marshall','Pulaski'],['Marshall','Saint_Joseph'],['Marshall','Starke'],['Martin','Daviess'],['Martin','Dubois'],['Martin','Greene'],['Martin','Lawrence'],['Martin','Orange'],['Miami','Cass'],['Miami','Fulton'],['Miami','Grant'],['Miami','Howard'],['Miami','Wabash'],['Monroe','Brown'],['Monroe','Greene'],['Monroe','Jackson'],['Monroe','Lawrence'],['Monroe','Morgan'],['Monroe','Owen'],['Montgomery','Boone'],['Montgomery','Clinton'],['Montgomery','Fountain'],['Montgomery','Hendricks'],['Montgomery','Parke'],['Montgomery','Putnam'],['Montgomery','Tippecanoe'],['Morgan','Brown'],['Morgan','Hendricks'],['Morgan','Johnson'],['Morgan','Marion'],['Morgan','Monroe'],['Morgan','Owen'],['Morgan','Putnam'],['Newton','Benton'],['Newton','Jasper'],['Newton','Lake'],['Noble','Allen'],['Noble','DeKalb'],['Noble','Elkhart'],['Noble','Kosciusko'],['Noble','LaGrange'],['Noble','Steuben'],['Noble','Whitley'],['Ohio','Dearborn'],['Ohio','Ripley'],['Ohio','Switzerland'],['Orange','Crawford'],['Orange','Dubois'],['Orange','Lawrence'],['Orange','Martin'],['Orange','Washington'],['Owen','Clay'],['Owen','Greene'],['Owen','Monroe'],['Owen','Morgan'],['Owen','Putnam'],['Parke','Clay'],['Parke','Fountain'],['Parke','Montgomery'],['Parke','Putnam'],['Parke','Vermillion'],['Parke','Vigo'],['Perry','Crawford'],['Perry','Dubois'],['Perry','Spencer'],['Pike','Daviess'],['Pike','Dubois'],['Pike','Gibson'],['Pike','Knox'],['Pike','Warrick'],['Porter','Jasper'],['Porter','Lake'],['Porter','LaPorte'],['Porter','Starke'],['Posey','Gibson'],['Posey','Vanderburgh'],['Pulaski','Cass'],['Pulaski','Fulton'],['Pulaski','Jasper'],['Pulaski','Marshall'],['Pulaski','Starke'],['Pulaski','White'],['Putnam','Clay'],['Putnam','Hendricks'],['Putnam','Montgomery'],['Putnam','Morgan'],['Putnam','Owen'],['Putnam','Parke'],['Randolph','Delaware'],['Randolph','Henry'],['Randolph','Jay'],['Randolph','Wayne'],['Ripley','Dearborn'],['Ripley','Decatur'],['Ripley','Franklin'],['Ripley','Jefferson'],['Ripley','Jennings'],['Ripley','Ohio'],['Ripley','Switzerland'],['Rush','Decatur'],['Rush','Fayette'],['Rush','Franklin'],['Rush','Hancock'],['Rush','Henry'],['Rush','Shelby'],['Saint_Joseph','Elkhart'],['Saint_Joseph','LaPorte'],['Saint_Joseph','Marshall'],['Saint_Joseph','Saint_Joseph'],['Saint_Joseph','Starke'],['Scott','Clark'],['Scott','Jackson'],['Scott','Jefferson'],['Scott','Jennings'],['Scott','Washington'],['Shelby','Bartholomew'],['Shelby','Decatur'],['Shelby','Hancock'],['Shelby','Johnson'],['Shelby','Marion'],['Shelby','Rush'],['Spencer','Dubois'],['Spencer','Perry'],['Spencer','Warrick'],['Starke','Fulton'],['Starke','Jasper'],['Starke','LaPorte'],['Starke','Marshall'],['Starke','Porter'],['Starke','Pulaski'],['Starke','Saint_Joseph'],['Steuben','DeKalb'],['Steuben','LaGrange'],['Steuben','Noble'],['Sullivan','Clay'],['Sullivan','Greene'],['Sullivan','Knox'],['Sullivan','Vigo'],['Switzerland','Jefferson'],['Switzerland','Ohio'],['Switzerland','Ripley'],['Tippecanoe','Benton'],['Tippecanoe','Carroll'],['Tippecanoe','Clinton'],['Tippecanoe','Fountain'],['Tippecanoe','Montgomery'],['Tippecanoe','Warren'],['Tippecanoe','White'],['Tipton','Clinton'],['Tipton','Grant'],['Tipton','Hamilton'],['Tipton','Howard'],['Tipton','Madison'],['Union','Fayette'],['Union','Franklin'],['Union','Wayne'],['Vanderburgh','Gibson'],['Vanderburgh','Posey'],['Vanderburgh','Warrick'],['Vermillion','Fountain'],['Vermillion','Parke'],['Vermillion','Vigo'],['Vermillion','Warren'],['Vigo','Clay'],['Vigo','Parke'],['Vigo','Sullivan'],['Vigo','Vermillion'],['Wabash','Fulton'],['Wabash','Grant'],['Wabash','Huntington'],['Wabash','Kosciusko'],['Wabash','Miami'],['Wabash','Whitley'],['Warren','Benton'],['Warren','Fountain'],['Warren','Tippecanoe'],['Warren','Vermillion'],['Warrick','Dubois'],['Warrick','Gibson'],['Warrick','Pike'],['Warrick','Spencer'],['Warrick','Vanderburgh'],['Washington','Clark'],['Washington','Crawford'],['Washington','Floyd'],['Washington','Harrison'],['Washington','Jackson'],['Washington','Lawrence'],['Washington','Orange'],['Washington','Scott'],['Wayne','Fayette'],['Wayne','Henry'],['Wayne','Randolph'],['Wayne','Union'],['Wells','Adams'],['Wells','Allen'],['Wells','Blackford'],['Wells','Grant'],['Wells','Huntington'],['Wells','Jay'],['White','Benton'],['White','Carroll'],['White','Cass'],['White','Jasper'],['White','Pulaski'],['White','Tippecanoe'],['Whitley','Allen'],['Whitley','Huntington'],['Whitley','Kosciusko'],['Whitley','Noble'],['Whitley','Wabash']]"
   ]
  },
  {
   "cell_type": "code",
   "execution_count": 6,
   "id": "b1d5195d",
   "metadata": {},
   "outputs": [],
   "source": [
    "df_pair = pd.DataFrame(county_pair_list, columns=['county','adj_county'])\n",
    "#df_pair = df_pair.groupby('county')['adj_county'].apply(', '.join).reset_index()\n",
    "#df_pair = df_pair.groupby('county')['adj_county'].apply(list).to_dict()"
   ]
  },
  {
   "cell_type": "markdown",
   "id": "f64424c5",
   "metadata": {},
   "source": [
    "### Pre-Model Research"
   ]
  },
  {
   "cell_type": "code",
   "execution_count": 7,
   "id": "bf1f7aab",
   "metadata": {},
   "outputs": [
    {
     "data": {
      "text/plain": [
       "'State Pop Total is 6785668, number people per representive is 753963.1111111111'"
      ]
     },
     "execution_count": 7,
     "metadata": {},
     "output_type": "execute_result"
    }
   ],
   "source": [
    "state_pop = df0['pop'].sum()\n",
    "pop_per_rep = state_pop / 9 #gives us population per representative\n",
    "f'State Pop Total is {state_pop}, number people per representive is {pop_per_rep}'"
   ]
  },
  {
   "cell_type": "code",
   "execution_count": 8,
   "id": "302be098",
   "metadata": {},
   "outputs": [
    {
     "data": {
      "text/plain": [
       "48    Marion\n",
       "Name: county, dtype: object"
      ]
     },
     "execution_count": 8,
     "metadata": {},
     "output_type": "execute_result"
    }
   ],
   "source": [
    "#lets assume we are going to allow for variance off the average of 5% up or down\n",
    "#how many counties do we have that exceed the upper population limit on their own\n",
    "max_per_district = pop_per_rep * 1.05\n",
    "df0[df0['pop'] >= max_per_district]['county']"
   ]
  },
  {
   "cell_type": "markdown",
   "id": "24c766b4",
   "metadata": {},
   "source": [
    "Marion county is the only county that by itself has a population that exceeds the average population per representitive.  We are not allowing for divisibility of counties in this problem, so we can either (1) assign two representatives to this county or (2) allow only one representitive which would result in under representation in Marion county."
   ]
  },
  {
   "cell_type": "markdown",
   "id": "a4496e3b",
   "metadata": {},
   "source": [
    "Two representitive in Marion county would result in a population per representive in Marion of 488k per representive.  This would result in 488k people per representive in Marion county and 830k in the rest of the state.  That represents a substantial over-representation in Marion county.  Hence, we prefer the alternative under representation in Marion county"
   ]
  },
  {
   "cell_type": "markdown",
   "id": "3e872780",
   "metadata": {},
   "source": [
    "### Global Variables"
   ]
  },
  {
   "cell_type": "code",
   "execution_count": 9,
   "id": "2125b0f5",
   "metadata": {},
   "outputs": [],
   "source": [
    "num_counties = county_cnt #number of counties\n",
    "num_leg_districits = 9 #number of legistlative districts\n",
    "pop_max = 977213 #max pop allosed in each legislative district\n",
    "pop_min = pop_per_rep / 1.05 #min pop allowed in each legislative district"
   ]
  },
  {
   "cell_type": "markdown",
   "id": "0dd37943",
   "metadata": {},
   "source": [
    "### Setup"
   ]
  },
  {
   "cell_type": "code",
   "execution_count": 10,
   "id": "659f6e85",
   "metadata": {},
   "outputs": [],
   "source": [
    "#creating a variable for each county.\n",
    "counties = df0['county'].unique()"
   ]
  },
  {
   "cell_type": "code",
   "execution_count": 11,
   "id": "39013b59",
   "metadata": {},
   "outputs": [],
   "source": [
    "#creating a variable for each district\n",
    "district = list(range(0,num_leg_districits))"
   ]
  },
  {
   "cell_type": "code",
   "execution_count": 12,
   "id": "dac423f1",
   "metadata": {},
   "outputs": [],
   "source": [
    "#creating a population dictionary\n",
    "pop_list = df0['pop']\n",
    "pop = dict(zip(counties, pop_list))"
   ]
  },
  {
   "cell_type": "code",
   "execution_count": 13,
   "id": "a0caf867",
   "metadata": {},
   "outputs": [],
   "source": [
    "#adjacency dictionary\n",
    "adj_dict = df_pair.groupby('county')['adj_county'].apply(list).to_dict()"
   ]
  },
  {
   "cell_type": "markdown",
   "id": "b0fed6d1",
   "metadata": {},
   "source": [
    "### Creating All Possible Adjacent Pairs"
   ]
  },
  {
   "cell_type": "code",
   "execution_count": 14,
   "id": "7024d194",
   "metadata": {},
   "outputs": [],
   "source": [
    "pair_temp = []\n",
    "sorted_pair_temp = []\n",
    "start_county = []\n",
    "end_county = []\n",
    "for i in counties:\n",
    "    for p in adj_dict[i]:\n",
    "       pair_temp.append(i+p)\n",
    "       sorted_pair_temp.append(sorted(i+p))\n",
    "       start_county.append(i)\n",
    "       end_county.append(p)\n",
    "d = {'pair_list':pair_temp,'sorted':sorted_pair_temp,\"start\":start_county,\"end\":end_county}\n",
    "df = pd.DataFrame(d)\n",
    "key_list = df.sorted.drop_duplicates().keys()\n",
    "pair_list = df.pair_list[key_list]\n",
    "start_list = df.start[key_list]\n",
    "end_list = df.end[key_list]"
   ]
  },
  {
   "cell_type": "markdown",
   "id": "8eef24ea",
   "metadata": {},
   "source": [
    "### Creating a dataframe of each pair within each district layer"
   ]
  },
  {
   "cell_type": "code",
   "execution_count": 15,
   "id": "0a806aeb",
   "metadata": {},
   "outputs": [],
   "source": [
    "#this will help built the constraint a little quicker, so doing this here and now\n",
    "pair_list2  = [(p,d) for p in pair_list for d in district]\n",
    "start_list2  = [(s,d) for s in start_list for d in district]\n",
    "end_list2  = [(e,d) for e in end_list for d in district]\n",
    "d2 = {'pair_list':pair_list2,'start':start_list2,\"end\":end_list2}\n",
    "df2 = pd.DataFrame(d2)"
   ]
  },
  {
   "cell_type": "markdown",
   "id": "8f5c5613",
   "metadata": {},
   "source": [
    "### Establishing Variables"
   ]
  },
  {
   "cell_type": "code",
   "execution_count": 16,
   "id": "a5293064",
   "metadata": {},
   "outputs": [],
   "source": [
    "#establish county/district variables\n",
    "county_district = LpVariable.dicts(\"count_district_assignment\",[(c,d) for c in counties for d in district],0,1,cat=\"Integer\")\n",
    "adj_pair = LpVariable.dicts(\"adj_pair\",[(p,d) for p in pair_list for d in district],0,1,cat=\"Integer\")"
   ]
  },
  {
   "cell_type": "markdown",
   "id": "aa25362c",
   "metadata": {},
   "source": [
    "### Objective Function"
   ]
  },
  {
   "cell_type": "code",
   "execution_count": 17,
   "id": "ddecd890",
   "metadata": {},
   "outputs": [],
   "source": [
    "#setting up problem\n",
    "prob = LpProblem(\"problem\",LpMinimize)\n",
    "prob += lpSum([adj_pair[i] for i in adj_pair])"
   ]
  },
  {
   "cell_type": "markdown",
   "id": "f07390d5",
   "metadata": {},
   "source": [
    "### Establishing constraints"
   ]
  },
  {
   "cell_type": "code",
   "execution_count": 18,
   "id": "da22b7cf",
   "metadata": {},
   "outputs": [],
   "source": [
    "#making sure each county is assigned to one and only one district\n",
    "for c in counties:\n",
    "    prob += lpSum([county_district[(c,d)] for d in district]) == 1\n",
    "    \n",
    "#setting up constraints on max population in each district\n",
    "for d in district:\n",
    "    prob += lpSum([county_district[(i,d)] * pop[i] for i in counties]) <= pop_max \n",
    "\n",
    "#setting up constraints on min population in each district\n",
    "for d in district:\n",
    "    prob += lpSum([county_district[(i,d)] * pop[i] for i in counties]) >= pop_min \n",
    "    \n",
    "#counting edges and relating to the edge variables\n",
    "for i in range(len(pair_list2)):\n",
    "    prob +=  county_district[start_list2[i]] - county_district[end_list2[i]] <= adj_pair[pair_list2[i]]\n",
    "    \n",
    "for i in range(len(pair_list2)):\n",
    "    prob +=  -county_district[start_list2[i]] + county_district[end_list2[i]] <= adj_pair[pair_list2[i]]"
   ]
  },
  {
   "cell_type": "markdown",
   "id": "7bd69b6b",
   "metadata": {},
   "source": [
    "### Solve"
   ]
  },
  {
   "cell_type": "code",
   "execution_count": null,
   "id": "109cb847",
   "metadata": {},
   "outputs": [],
   "source": [
    "prob.solve()"
   ]
  },
  {
   "cell_type": "markdown",
   "id": "83f15e3a",
   "metadata": {},
   "source": [
    "### Show the Assignment of County to Legislative District"
   ]
  },
  {
   "cell_type": "code",
   "execution_count": null,
   "id": "5e6afc0e",
   "metadata": {},
   "outputs": [],
   "source": [
    "assignment_list = []\n",
    "assignment_county = []\n",
    "assignment_district = []\n",
    "for i in county_district: \n",
    "    assignment_list.append(county_district[i].varValue)\n",
    "for c in counties:\n",
    "    for j in district:\n",
    "        assignment_county.append(c)\n",
    "        assignment_district.append(j)\n",
    "d3 = {\"County\":assignment_county, \"Legislative_District\": assignment_district, \"assignment_list\": assignment_list}\n",
    "df3 = pd.DataFrame(d3)\n",
    "df3 = df3[df3['assignment_list'] == 1]"
   ]
  },
  {
   "cell_type": "code",
   "execution_count": null,
   "id": "33c06637",
   "metadata": {},
   "outputs": [],
   "source": [
    "df3.groupby('Legislative_District')['County'].apply(' '.join).reset_index()"
   ]
  },
  {
   "cell_type": "markdown",
   "id": "70487b66",
   "metadata": {},
   "source": [
    "### Count the Number of Cut Edges"
   ]
  },
  {
   "cell_type": "code",
   "execution_count": null,
   "id": "72677b01",
   "metadata": {},
   "outputs": [],
   "source": [
    "edge_total = [] \n",
    "for i in pair_list2: \n",
    "    edge_total.append(adj_pair[i].varValue/2)\n",
    "print('Total of Cut Edges is {}'.format(sum(edge_total)))"
   ]
  }
 ],
 "metadata": {
  "kernelspec": {
   "display_name": "Python 3 (ipykernel)",
   "language": "python",
   "name": "python3"
  },
  "language_info": {
   "codemirror_mode": {
    "name": "ipython",
    "version": 3
   },
   "file_extension": ".py",
   "mimetype": "text/x-python",
   "name": "python",
   "nbconvert_exporter": "python",
   "pygments_lexer": "ipython3",
   "version": "3.10.9"
  }
 },
 "nbformat": 4,
 "nbformat_minor": 5
}
