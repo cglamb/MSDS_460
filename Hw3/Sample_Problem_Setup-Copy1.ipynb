{
 "cells": [
  {
   "cell_type": "markdown",
   "id": "25a1c63b",
   "metadata": {},
   "source": [
    "### Sample Setup for Hw3"
   ]
  },
  {
   "cell_type": "code",
   "execution_count": 1,
   "id": "2c422ae0",
   "metadata": {},
   "outputs": [],
   "source": [
    "#import libraries\n",
    "import pulp, numpy as np, pandas as pd\n",
    "from pulp import LpVariable, LpProblem, LpMaximize, LpStatus, value, LpMinimize, lpSum"
   ]
  },
  {
   "cell_type": "markdown",
   "id": "3e872780",
   "metadata": {},
   "source": [
    "### Global Variables"
   ]
  },
  {
   "cell_type": "code",
   "execution_count": 2,
   "id": "2125b0f5",
   "metadata": {},
   "outputs": [],
   "source": [
    "num_counties = 15 #number of counties\n",
    "num_leg_districits = 5 #number of legistlative districts\n",
    "pop_max = 10000 #max pop allosed in each legislative district\n",
    "pop_min = 2000 #min pop allowed in each legislative district"
   ]
  },
  {
   "cell_type": "markdown",
   "id": "b94ffc3c",
   "metadata": {},
   "source": [
    "### Setup"
   ]
  },
  {
   "cell_type": "code",
   "execution_count": 3,
   "id": "d8512c8f",
   "metadata": {},
   "outputs": [],
   "source": [
    "#creating a variable for each county.\n",
    "counties = list(map(chr, range(97, 123)))[:num_counties]"
   ]
  },
  {
   "cell_type": "code",
   "execution_count": 4,
   "id": "343bedb8",
   "metadata": {},
   "outputs": [],
   "source": [
    "#creating a variable for each district\n",
    "district = list(range(0,num_leg_districits))"
   ]
  },
  {
   "cell_type": "code",
   "execution_count": 5,
   "id": "989cbb1b",
   "metadata": {},
   "outputs": [],
   "source": [
    "#creating a population dictionary\n",
    "pop_list = [2000] * num_counties\n",
    "pop = dict(zip(counties, pop_list))"
   ]
  },
  {
   "cell_type": "code",
   "execution_count": 6,
   "id": "ac9ddcbd",
   "metadata": {},
   "outputs": [],
   "source": [
    "#adjacency dictionary\n",
    "adj_dict = {'a':{'b','d'} , \n",
    "            'b':{'a','e','c'},\n",
    "            'c':{'b','f'},\n",
    "            'd':{'a','e','g'},\n",
    "            'e':{'b','f','h','d'},\n",
    "            'f':{'c','e','i'},\n",
    "            'g':{'d','h'},\n",
    "            'h':{'g','e','i'},\n",
    "            'i':{'f','h'},\n",
    "            'j':{'i',\"k\"},\n",
    "            \"k\":{\"j\",\"l\"},\n",
    "            \"l\":{\"k\",\"m\"},\n",
    "            \"m\":{\"l\",\"n\"},\n",
    "            \"n\":{\"m\",\"o\"},\n",
    "            \"o\":{\"n\"}\n",
    "           }"
   ]
  },
  {
   "cell_type": "markdown",
   "id": "98f4934d",
   "metadata": {},
   "source": [
    "### Creating All Possible Adjacent Pairs"
   ]
  },
  {
   "cell_type": "code",
   "execution_count": 7,
   "id": "6320b86e",
   "metadata": {},
   "outputs": [],
   "source": [
    "pair_temp = []\n",
    "sorted_pair_temp = []\n",
    "start_county = []\n",
    "end_county = []\n",
    "for i in counties:\n",
    "    for p in adj_dict[i]:\n",
    "       pair_temp.append(i+p)\n",
    "       sorted_pair_temp.append(sorted(i+p))\n",
    "       start_county.append(i)\n",
    "       end_county.append(p)\n",
    "d = {'pair_list':pair_temp,'sorted':sorted_pair_temp,\"start\":start_county,\"end\":end_county}\n",
    "df = pd.DataFrame(d)\n",
    "key_list = df.sorted.drop_duplicates().keys()\n",
    "pair_list = df.pair_list[key_list]\n",
    "start_list = df.start[key_list]\n",
    "end_list = df.end[key_list]"
   ]
  },
  {
   "cell_type": "markdown",
   "id": "d899e6a6",
   "metadata": {},
   "source": [
    "### Creating a dataframe of each pair within each district layer"
   ]
  },
  {
   "cell_type": "code",
   "execution_count": 8,
   "id": "6827714f",
   "metadata": {},
   "outputs": [],
   "source": [
    "#this will help built the constraint a little quicker, so doing this here and now\n",
    "pair_list2  = [(p,d) for p in pair_list for d in district]\n",
    "start_list2  = [(s,d) for s in start_list for d in district]\n",
    "end_list2  = [(e,d) for e in end_list for d in district]\n",
    "d2 = {'pair_list':pair_list2,'start':start_list2,\"end\":end_list2}\n",
    "df2 = pd.DataFrame(d2)"
   ]
  },
  {
   "cell_type": "markdown",
   "id": "8f5c5613",
   "metadata": {},
   "source": [
    "### Establishing Variables"
   ]
  },
  {
   "cell_type": "code",
   "execution_count": 9,
   "id": "512cfdc1",
   "metadata": {},
   "outputs": [],
   "source": [
    "#establish county/district variables\n",
    "county_district = LpVariable.dicts(\"count_district_assignment\",[(c,d) for c in counties for d in district],0,1,cat=\"Integer\")\n",
    "adj_pair = LpVariable.dicts(\"adj_pair\",[(p,d) for p in pair_list for d in district],0,1,cat=\"Integer\")"
   ]
  },
  {
   "cell_type": "markdown",
   "id": "aa25362c",
   "metadata": {},
   "source": [
    "### Objective Function"
   ]
  },
  {
   "cell_type": "code",
   "execution_count": 10,
   "id": "ddecd890",
   "metadata": {},
   "outputs": [],
   "source": [
    "#setting up problem\n",
    "prob = LpProblem(\"problem\",LpMinimize)\n",
    "prob += lpSum([adj_pair[i] for i in adj_pair])"
   ]
  },
  {
   "cell_type": "markdown",
   "id": "f07390d5",
   "metadata": {},
   "source": [
    "### Establishing constraints"
   ]
  },
  {
   "cell_type": "code",
   "execution_count": 11,
   "id": "f3290ea3",
   "metadata": {},
   "outputs": [],
   "source": [
    "#making sure each county is assigned to one and only one district\n",
    "for c in counties:\n",
    "    prob += lpSum([county_district[(c,d)] for d in district]) == 1\n",
    "    \n",
    "#setting up constraints on max population in each district\n",
    "for d in district:\n",
    "    prob += lpSum([county_district[(i,d)] * pop[i] for i in counties]) <= pop_max \n",
    "\n",
    "#setting up constraints on min population in each district\n",
    "for d in district:\n",
    "    prob += lpSum([county_district[(i,d)] * pop[i] for i in counties]) >= pop_min \n",
    "    \n",
    "#counting edges and relating to the edge variables\n",
    "for i in range(len(pair_list2)):\n",
    "    prob +=  county_district[start_list2[i]] - county_district[end_list2[i]] <= adj_pair[pair_list2[i]]\n",
    "    \n",
    "for i in range(len(pair_list2)):\n",
    "    prob +=  -county_district[start_list2[i]] + county_district[end_list2[i]] <= adj_pair[pair_list2[i]]"
   ]
  },
  {
   "cell_type": "markdown",
   "id": "7bd69b6b",
   "metadata": {},
   "source": [
    "### Solve"
   ]
  },
  {
   "cell_type": "code",
   "execution_count": null,
   "id": "109cb847",
   "metadata": {},
   "outputs": [],
   "source": [
    "prob.solve()"
   ]
  },
  {
   "cell_type": "markdown",
   "id": "f873ce16",
   "metadata": {},
   "source": [
    "### Show the Assignment of County to Legislative District"
   ]
  },
  {
   "cell_type": "code",
   "execution_count": null,
   "id": "8d78ad61",
   "metadata": {},
   "outputs": [],
   "source": [
    "assignment_list = []\n",
    "assignment_county = []\n",
    "assignment_district = []\n",
    "for i in county_district: \n",
    "    assignment_list.append(county_district[i].varValue)\n",
    "for c in counties:\n",
    "    for j in district:\n",
    "        assignment_county.append(c)\n",
    "        assignment_district.append(j)\n",
    "d3 = {\"County\":assignment_county, \"Legislative_District\": assignment_district, \"assignment_list\": assignment_list}\n",
    "df3 = pd.DataFrame(d3)\n",
    "df3 = df3[df3['assignment_list'] == 1]"
   ]
  },
  {
   "cell_type": "code",
   "execution_count": null,
   "id": "47427b5d",
   "metadata": {},
   "outputs": [],
   "source": [
    "df3.groupby('Legislative_District')['County'].apply(' '.join).reset_index()"
   ]
  },
  {
   "cell_type": "markdown",
   "id": "0a8845cc",
   "metadata": {},
   "source": [
    "### Count the Number of Cut Edges"
   ]
  },
  {
   "cell_type": "code",
   "execution_count": null,
   "id": "46f01842",
   "metadata": {},
   "outputs": [],
   "source": [
    "edge_total = [] \n",
    "for i in pair_list2: \n",
    "    edge_total.append(adj_pair[i].varValue/2)\n",
    "print('Total of Cut Edges is {}'.format(sum(edge_total)))"
   ]
  }
 ],
 "metadata": {
  "kernelspec": {
   "display_name": "Python 3 (ipykernel)",
   "language": "python",
   "name": "python3"
  },
  "language_info": {
   "codemirror_mode": {
    "name": "ipython",
    "version": 3
   },
   "file_extension": ".py",
   "mimetype": "text/x-python",
   "name": "python",
   "nbconvert_exporter": "python",
   "pygments_lexer": "ipython3",
   "version": "3.10.9"
  }
 },
 "nbformat": 4,
 "nbformat_minor": 5
}
